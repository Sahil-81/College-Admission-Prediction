{
  "nbformat": 4,
  "nbformat_minor": 0,
  "metadata": {
    "colab": {
      "name": "EDI_FINAL.ipynb",
      "provenance": [],
      "collapsed_sections": []
    },
    "kernelspec": {
      "name": "python3",
      "display_name": "Python 3"
    },
    "language_info": {
      "name": "python"
    }
  },
  "cells": [
    {
      "cell_type": "markdown",
      "metadata": {
        "id": "TElK_e6EjyES"
      },
      "source": [
        "**College Chances Prediction**"
      ]
    },
    {
      "cell_type": "markdown",
      "metadata": {
        "id": "tsiox2N9GIQD"
      },
      "source": [
        "IMPORTING PACKAGES"
      ]
    },
    {
      "cell_type": "code",
      "metadata": {
        "id": "ZNePsmFMGHWR"
      },
      "source": [
        "import numpy as np\n",
        "import pandas as pd\n",
        "import matplotlib.pyplot as plt\n",
        "import seaborn as sns\n",
        "from sklearn.preprocessing import LabelEncoder\n",
        "from sklearn.model_selection import train_test_split\n",
        "from sklearn.linear_model import  LinearRegression\n",
        "from sklearn.linear_model import RidgeCV\n",
        "from sklearn.metrics import r2_score\n",
        "from sklearn.metrics import mean_absolute_error\n",
        "from sklearn.metrics import mean_squared_error\n",
        "from sklearn.svm import SVR\n",
        "from sklearn.tree import DecisionTreeRegressor\n"
      ],
      "execution_count": null,
      "outputs": []
    },
    {
      "cell_type": "code",
      "metadata": {
        "id": "gUZl3JHeGDGa"
      },
      "source": [
        "df = pd.read_csv(\"college_list.csv\")"
      ],
      "execution_count": null,
      "outputs": []
    },
    {
      "cell_type": "code",
      "metadata": {
        "colab": {
          "base_uri": "https://localhost:8080/",
          "height": 418
        },
        "id": "XAl0pDTlGTp2",
        "outputId": "f8e25732-5198-4b5e-9a36-d0017b5e6d26"
      },
      "source": [
        "df"
      ],
      "execution_count": null,
      "outputs": [
        {
          "output_type": "execute_result",
          "data": {
            "text/html": [
              "<div>\n",
              "<style scoped>\n",
              "    .dataframe tbody tr th:only-of-type {\n",
              "        vertical-align: middle;\n",
              "    }\n",
              "\n",
              "    .dataframe tbody tr th {\n",
              "        vertical-align: top;\n",
              "    }\n",
              "\n",
              "    .dataframe thead th {\n",
              "        text-align: right;\n",
              "    }\n",
              "</style>\n",
              "<table border=\"1\" class=\"dataframe\">\n",
              "  <thead>\n",
              "    <tr style=\"text-align: right;\">\n",
              "      <th></th>\n",
              "      <th>College</th>\n",
              "      <th>Branch</th>\n",
              "      <th>Quota</th>\n",
              "      <th>Type</th>\n",
              "      <th>Gender</th>\n",
              "      <th>Opening Rank</th>\n",
              "      <th>Closing Rank</th>\n",
              "      <th>Rank</th>\n",
              "      <th>Chances</th>\n",
              "    </tr>\n",
              "  </thead>\n",
              "  <tbody>\n",
              "    <tr>\n",
              "      <th>0</th>\n",
              "      <td>Atal Bihari Vajpayee Indian Institute of Infor...</td>\n",
              "      <td>Computer Science and Engineering (4 Years, Bac...</td>\n",
              "      <td>AI</td>\n",
              "      <td>OPEN</td>\n",
              "      <td>Female-only (including Supernumerary)</td>\n",
              "      <td>7551</td>\n",
              "      <td>11475</td>\n",
              "      <td>513</td>\n",
              "      <td>0.955294</td>\n",
              "    </tr>\n",
              "    <tr>\n",
              "      <th>1</th>\n",
              "      <td>Atal Bihari Vajpayee Indian Institute of Infor...</td>\n",
              "      <td>Integrated B. Tech.(IT) and M. Tech (IT) (5 Ye...</td>\n",
              "      <td>AI</td>\n",
              "      <td>OPEN</td>\n",
              "      <td>Gender-Neutral</td>\n",
              "      <td>8268</td>\n",
              "      <td>12315</td>\n",
              "      <td>1234</td>\n",
              "      <td>0.899797</td>\n",
              "    </tr>\n",
              "    <tr>\n",
              "      <th>2</th>\n",
              "      <td>Atal Bihari Vajpayee Indian Institute of Infor...</td>\n",
              "      <td>Integrated B. Tech.(IT) and M. Tech (IT) (5 Ye...</td>\n",
              "      <td>AI</td>\n",
              "      <td>OPEN</td>\n",
              "      <td>Female-only (including Supernumerary)</td>\n",
              "      <td>15153</td>\n",
              "      <td>19933</td>\n",
              "      <td>3123</td>\n",
              "      <td>0.843325</td>\n",
              "    </tr>\n",
              "    <tr>\n",
              "      <th>3</th>\n",
              "      <td>Atal Bihari Vajpayee Indian Institute of Infor...</td>\n",
              "      <td>Integrated B. Tech.(IT) and MBA (5 Years, Inte...</td>\n",
              "      <td>AI</td>\n",
              "      <td>OPEN</td>\n",
              "      <td>Gender-Neutral</td>\n",
              "      <td>12037</td>\n",
              "      <td>15545</td>\n",
              "      <td>2537</td>\n",
              "      <td>0.836796</td>\n",
              "    </tr>\n",
              "    <tr>\n",
              "      <th>4</th>\n",
              "      <td>Atal Bihari Vajpayee Indian Institute of Infor...</td>\n",
              "      <td>Integrated B. Tech.(IT) and MBA (5 Years, Inte...</td>\n",
              "      <td>AI</td>\n",
              "      <td>OPEN</td>\n",
              "      <td>Female-only (including Supernumerary)</td>\n",
              "      <td>20871</td>\n",
              "      <td>22746</td>\n",
              "      <td>4719</td>\n",
              "      <td>0.792535</td>\n",
              "    </tr>\n",
              "    <tr>\n",
              "      <th>...</th>\n",
              "      <td>...</td>\n",
              "      <td>...</td>\n",
              "      <td>...</td>\n",
              "      <td>...</td>\n",
              "      <td>...</td>\n",
              "      <td>...</td>\n",
              "      <td>...</td>\n",
              "      <td>...</td>\n",
              "      <td>...</td>\n",
              "    </tr>\n",
              "    <tr>\n",
              "      <th>1520</th>\n",
              "      <td>Indian Institute of Information Technology Bha...</td>\n",
              "      <td>Mechatronics Engineering (4 Years, Bachelor of...</td>\n",
              "      <td>AI</td>\n",
              "      <td>OPEN</td>\n",
              "      <td>Gender-Neutral</td>\n",
              "      <td>30282</td>\n",
              "      <td>42443</td>\n",
              "      <td>626</td>\n",
              "      <td>0.985251</td>\n",
              "    </tr>\n",
              "    <tr>\n",
              "      <th>1521</th>\n",
              "      <td>Atal Bihari Vajpayee Indian Institute of Infor...</td>\n",
              "      <td>Integrated B. Tech.(IT) and M. Tech (IT) (5 Ye...</td>\n",
              "      <td>AI</td>\n",
              "      <td>OPEN</td>\n",
              "      <td>Gender-Neutral</td>\n",
              "      <td>10024</td>\n",
              "      <td>14469</td>\n",
              "      <td>210</td>\n",
              "      <td>0.985486</td>\n",
              "    </tr>\n",
              "    <tr>\n",
              "      <th>1522</th>\n",
              "      <td>Indian Institute of Information Technology, De...</td>\n",
              "      <td>B. Tech. Mechanical Engineering and M. Tech. i...</td>\n",
              "      <td>AI</td>\n",
              "      <td>OPEN</td>\n",
              "      <td>Gender-Neutral</td>\n",
              "      <td>12338</td>\n",
              "      <td>32521</td>\n",
              "      <td>469</td>\n",
              "      <td>0.985579</td>\n",
              "    </tr>\n",
              "    <tr>\n",
              "      <th>1523</th>\n",
              "      <td>Indian Institute of Information Technology, De...</td>\n",
              "      <td>B. Tech. Electronics and Communication Enginee...</td>\n",
              "      <td>AI</td>\n",
              "      <td>OPEN</td>\n",
              "      <td>Gender-Neutral</td>\n",
              "      <td>19516</td>\n",
              "      <td>24326</td>\n",
              "      <td>162</td>\n",
              "      <td>0.993340</td>\n",
              "    </tr>\n",
              "    <tr>\n",
              "      <th>1524</th>\n",
              "      <td>Indian Institute of Information Technology(III...</td>\n",
              "      <td>Computer Science and Engineering (4 Years, Bac...</td>\n",
              "      <td>AI</td>\n",
              "      <td>OPEN</td>\n",
              "      <td>Gender-Neutral</td>\n",
              "      <td>14760</td>\n",
              "      <td>25295</td>\n",
              "      <td>109</td>\n",
              "      <td>0.995691</td>\n",
              "    </tr>\n",
              "  </tbody>\n",
              "</table>\n",
              "<p>1525 rows × 9 columns</p>\n",
              "</div>"
            ],
            "text/plain": [
              "                                                College  ...   Chances\n",
              "0     Atal Bihari Vajpayee Indian Institute of Infor...  ...  0.955294\n",
              "1     Atal Bihari Vajpayee Indian Institute of Infor...  ...  0.899797\n",
              "2     Atal Bihari Vajpayee Indian Institute of Infor...  ...  0.843325\n",
              "3     Atal Bihari Vajpayee Indian Institute of Infor...  ...  0.836796\n",
              "4     Atal Bihari Vajpayee Indian Institute of Infor...  ...  0.792535\n",
              "...                                                 ...  ...       ...\n",
              "1520  Indian Institute of Information Technology Bha...  ...  0.985251\n",
              "1521  Atal Bihari Vajpayee Indian Institute of Infor...  ...  0.985486\n",
              "1522  Indian Institute of Information Technology, De...  ...  0.985579\n",
              "1523  Indian Institute of Information Technology, De...  ...  0.993340\n",
              "1524  Indian Institute of Information Technology(III...  ...  0.995691\n",
              "\n",
              "[1525 rows x 9 columns]"
            ]
          },
          "metadata": {},
          "execution_count": 265
        }
      ]
    },
    {
      "cell_type": "code",
      "metadata": {
        "colab": {
          "base_uri": "https://localhost:8080/"
        },
        "id": "20Go0HpOGW1b",
        "outputId": "60b2e593-b314-443d-87b7-12886a244254"
      },
      "source": [
        "df.info()"
      ],
      "execution_count": null,
      "outputs": [
        {
          "output_type": "stream",
          "name": "stdout",
          "text": [
            "<class 'pandas.core.frame.DataFrame'>\n",
            "RangeIndex: 1525 entries, 0 to 1524\n",
            "Data columns (total 9 columns):\n",
            " #   Column        Non-Null Count  Dtype  \n",
            "---  ------        --------------  -----  \n",
            " 0   College       1525 non-null   object \n",
            " 1   Branch        1525 non-null   object \n",
            " 2   Quota         1525 non-null   object \n",
            " 3   Type          1525 non-null   object \n",
            " 4   Gender        1525 non-null   object \n",
            " 5   Opening Rank  1525 non-null   int64  \n",
            " 6   Closing Rank  1525 non-null   int64  \n",
            " 7   Rank          1525 non-null   int64  \n",
            " 8   Chances       1525 non-null   float64\n",
            "dtypes: float64(1), int64(3), object(5)\n",
            "memory usage: 107.4+ KB\n"
          ]
        }
      ]
    },
    {
      "cell_type": "code",
      "metadata": {
        "colab": {
          "base_uri": "https://localhost:8080/",
          "height": 296
        },
        "id": "c3bWRCNxGZ_b",
        "outputId": "668248f6-20bc-4c5b-be06-e6bed7614e30"
      },
      "source": [
        "df.describe()"
      ],
      "execution_count": null,
      "outputs": [
        {
          "output_type": "execute_result",
          "data": {
            "text/html": [
              "<div>\n",
              "<style scoped>\n",
              "    .dataframe tbody tr th:only-of-type {\n",
              "        vertical-align: middle;\n",
              "    }\n",
              "\n",
              "    .dataframe tbody tr th {\n",
              "        vertical-align: top;\n",
              "    }\n",
              "\n",
              "    .dataframe thead th {\n",
              "        text-align: right;\n",
              "    }\n",
              "</style>\n",
              "<table border=\"1\" class=\"dataframe\">\n",
              "  <thead>\n",
              "    <tr style=\"text-align: right;\">\n",
              "      <th></th>\n",
              "      <th>Opening Rank</th>\n",
              "      <th>Closing Rank</th>\n",
              "      <th>Rank</th>\n",
              "      <th>Chances</th>\n",
              "    </tr>\n",
              "  </thead>\n",
              "  <tbody>\n",
              "    <tr>\n",
              "      <th>count</th>\n",
              "      <td>1525.000000</td>\n",
              "      <td>1525.000000</td>\n",
              "      <td>1525.000000</td>\n",
              "      <td>1525.000000</td>\n",
              "    </tr>\n",
              "    <tr>\n",
              "      <th>mean</th>\n",
              "      <td>17212.630820</td>\n",
              "      <td>24867.735082</td>\n",
              "      <td>16436.388852</td>\n",
              "      <td>0.332954</td>\n",
              "    </tr>\n",
              "    <tr>\n",
              "      <th>std</th>\n",
              "      <td>8356.115097</td>\n",
              "      <td>8249.420289</td>\n",
              "      <td>12412.277579</td>\n",
              "      <td>0.438779</td>\n",
              "    </tr>\n",
              "    <tr>\n",
              "      <th>min</th>\n",
              "      <td>374.000000</td>\n",
              "      <td>4278.000000</td>\n",
              "      <td>34.000000</td>\n",
              "      <td>-0.966785</td>\n",
              "    </tr>\n",
              "    <tr>\n",
              "      <th>25%</th>\n",
              "      <td>10559.000000</td>\n",
              "      <td>19690.000000</td>\n",
              "      <td>6156.000000</td>\n",
              "      <td>-0.001845</td>\n",
              "    </tr>\n",
              "    <tr>\n",
              "      <th>50%</th>\n",
              "      <td>16265.000000</td>\n",
              "      <td>25813.000000</td>\n",
              "      <td>13319.000000</td>\n",
              "      <td>0.391762</td>\n",
              "    </tr>\n",
              "    <tr>\n",
              "      <th>75%</th>\n",
              "      <td>23504.000000</td>\n",
              "      <td>30825.000000</td>\n",
              "      <td>24858.000000</td>\n",
              "      <td>0.705607</td>\n",
              "    </tr>\n",
              "    <tr>\n",
              "      <th>max</th>\n",
              "      <td>41913.000000</td>\n",
              "      <td>46587.000000</td>\n",
              "      <td>49962.000000</td>\n",
              "      <td>0.998673</td>\n",
              "    </tr>\n",
              "  </tbody>\n",
              "</table>\n",
              "</div>"
            ],
            "text/plain": [
              "       Opening Rank  Closing Rank          Rank      Chances\n",
              "count   1525.000000   1525.000000   1525.000000  1525.000000\n",
              "mean   17212.630820  24867.735082  16436.388852     0.332954\n",
              "std     8356.115097   8249.420289  12412.277579     0.438779\n",
              "min      374.000000   4278.000000     34.000000    -0.966785\n",
              "25%    10559.000000  19690.000000   6156.000000    -0.001845\n",
              "50%    16265.000000  25813.000000  13319.000000     0.391762\n",
              "75%    23504.000000  30825.000000  24858.000000     0.705607\n",
              "max    41913.000000  46587.000000  49962.000000     0.998673"
            ]
          },
          "metadata": {},
          "execution_count": 267
        }
      ]
    },
    {
      "cell_type": "code",
      "metadata": {
        "colab": {
          "base_uri": "https://localhost:8080/"
        },
        "id": "Qpr45MS4GdUJ",
        "outputId": "19c0aa0d-0bb1-4ca7-866b-485057b58b92"
      },
      "source": [
        "df.shape"
      ],
      "execution_count": null,
      "outputs": [
        {
          "output_type": "execute_result",
          "data": {
            "text/plain": [
              "(1525, 9)"
            ]
          },
          "metadata": {},
          "execution_count": 268
        }
      ]
    },
    {
      "cell_type": "markdown",
      "metadata": {
        "id": "SvQWWylHGriw"
      },
      "source": [
        "Data Visualization"
      ]
    },
    {
      "cell_type": "code",
      "metadata": {
        "colab": {
          "base_uri": "https://localhost:8080/",
          "height": 297
        },
        "id": "Nnk6a9O_GlBs",
        "outputId": "671b98fd-5028-470b-b15e-ad8b51c55c05"
      },
      "source": [
        "plt.xlabel('Rank')\n",
        "plt.ylabel('Chances')\n",
        "plt.scatter(df.Rank,df.Chances,color='red',marker='+')"
      ],
      "execution_count": null,
      "outputs": [
        {
          "output_type": "execute_result",
          "data": {
            "text/plain": [
              "<matplotlib.collections.PathCollection at 0x7fe2b2a48290>"
            ]
          },
          "metadata": {},
          "execution_count": 269
        },
        {
          "output_type": "display_data",
          "data": {
            "image/png": "[encoded data removed]",
            "text/plain": [
              "<Figure size 432x288 with 1 Axes>"
            ]
          },
          "metadata": {
            "needs_background": "light"
          }
        }
      ]
    },
    {
      "cell_type": "markdown",
      "metadata": {
        "id": "n9PCXQynHqvi"
      },
      "source": [
        "Applying One-Hot Encoding"
      ]
    },
    {
      "cell_type": "code",
      "metadata": {
        "id": "d7WzAYMzG-df"
      },
      "source": [
        "df1 = df.copy()"
      ],
      "execution_count": null,
      "outputs": []
    },
    {
      "cell_type": "code",
      "metadata": {
        "id": "TsRaVJ8pHT63"
      },
      "source": [
        "cat=['Gender','Branch','College']"
      ],
      "execution_count": null,
      "outputs": []
    },
    {
      "cell_type": "code",
      "metadata": {
        "id": "YP2lXDaYHiTn"
      },
      "source": [
        "df1=pd.get_dummies(df1,columns=cat)"
      ],
      "execution_count": null,
      "outputs": []
    },
    {
      "cell_type": "code",
      "metadata": {
        "colab": {
          "base_uri": "https://localhost:8080/"
        },
        "id": "8C9Ff2h8HkIm",
        "outputId": "04e0364a-0757-4d96-a3c7-c20a6a1a0683"
      },
      "source": [
        "df1.shape"
      ],
      "execution_count": null,
      "outputs": [
        {
          "output_type": "execute_result",
          "data": {
            "text/plain": [
              "(1525, 57)"
            ]
          },
          "metadata": {},
          "execution_count": 273
        }
      ]
    },
    {
      "cell_type": "code",
      "metadata": {
        "colab": {
          "base_uri": "https://localhost:8080/",
          "height": 776
        },
        "id": "OHsYUgSBH6on",
        "outputId": "acc37a90-177a-4c57-8048-c21d3b1b6a87"
      },
      "source": [
        "X = df1.drop(['Opening Rank','Closing Rank','Chances','Quota','Type'],axis='columns')\n",
        "X"
      ],
      "execution_count": null,
      "outputs": [
        {
          "output_type": "execute_result",
          "data": {
            "text/html": [
              "<div>\n",
              "<style scoped>\n",
              "    .dataframe tbody tr th:only-of-type {\n",
              "        vertical-align: middle;\n",
              "    }\n",
              "\n",
              "    .dataframe tbody tr th {\n",
              "        vertical-align: top;\n",
              "    }\n",
              "\n",
              "    .dataframe thead th {\n",
              "        text-align: right;\n",
              "    }\n",
              "</style>\n",
              "<table border=\"1\" class=\"dataframe\">\n",
              "  <thead>\n",
              "    <tr style=\"text-align: right;\">\n",
              "      <th></th>\n",
              "      <th>Rank</th>\n",
              "      <th>Gender_Female-only (including Supernumerary)</th>\n",
              "      <th>Gender_Gender-Neutral</th>\n",
              "      <th>Branch_Artificial Intelligence and Data Science (4 Years, Bachelor of Technology)</th>\n",
              "      <th>Branch_B. Tech. Computer Science and Engineering and M. Tech. Computer Science and Engineering with specialization in Systems Design (5 Years, Bachelor and Master of Technology (Dual Degree))</th>\n",
              "      <th>Branch_B. Tech. Electronics and Communication Engineering and M. Tech. Electronics and Communication Engineering with specialization in Communication Systems Design (5 Years, Bachelor and Master of Technology (Dual Degree))</th>\n",
              "      <th>Branch_B. Tech. Electronics and Communication Engineering and M. Tech. Electronics and Communication Engineering with specialization in VLSI Design (5 Years, Bachelor and Master of Technology (Dual Degree))</th>\n",
              "      <th>Branch_B. Tech. Mechanical Engineering and M. Tech. Mechanical Engineering with specialization in Advanced Manufacturing (5 Years, Bachelor and Master of Technology (Dual Degree))</th>\n",
              "      <th>Branch_B. Tech. Mechanical Engineering and M. Tech. in Mechanical Engineering with specialization in Product Design (5 Years, Bachelor and Master of Technology (Dual Degree))</th>\n",
              "      <th>Branch_Computer Engineering (4 Years, Bachelor of Technology)</th>\n",
              "      <th>Branch_Computer Science (4 Years, Bachelor of Technology)</th>\n",
              "      <th>Branch_Computer Science and Artificial Intelligence (4 Years, Bachelor of Technology)</th>\n",
              "      <th>Branch_Computer Science and Engineering (4 Years, Bachelor of Technology)</th>\n",
              "      <th>Branch_Computer Science and Engineering (5 Years, Bachelor and Master of Technology (Dual Degree))</th>\n",
              "      <th>Branch_Data Science and Artificial Intelligence (4 Years, Bachelor of Technology)</th>\n",
              "      <th>Branch_Electronics and Communication Engineering (4 Years, Bachelor of Technology)</th>\n",
              "      <th>Branch_Electronics and Communication Engineering with specialization in Design and Manufacturing (4 Years, Bachelor of Technology)</th>\n",
              "      <th>Branch_Information Technology (4 Years, Bachelor of Technology)</th>\n",
              "      <th>Branch_Information Technology-Business Informatics (4 Years, Bachelor of Technology)</th>\n",
              "      <th>Branch_Integrated B. Tech.(IT) and M. Tech (IT) (5 Years, Integrated B. Tech. and M. Tech. /MBA)</th>\n",
              "      <th>Branch_Integrated B. Tech.(IT) and MBA (5 Years, Integrated B. Tech. and M. Tech. /MBA)</th>\n",
              "      <th>Branch_Mechanical Engineering (4 Years, Bachelor of Technology)</th>\n",
              "      <th>Branch_Mechanical Engineering with specialization in Design and Manufacturing (4 Years, Bachelor of Technology)</th>\n",
              "      <th>Branch_Mechanical Engineering with specialization in Smart Manufacturing (4 Years, Bachelor of Technology)</th>\n",
              "      <th>Branch_Mechatronics Engineering (4 Years, Bachelor of Technology)</th>\n",
              "      <th>Branch_Smart Manufacturing (4 Years, Bachelor of Technology)</th>\n",
              "      <th>College_Atal Bihari Vajpayee Indian Institute of Information Technology &amp; Management Gwalior</th>\n",
              "      <th>College_Indian Institute of Information Technology (IIIT) Nagpur</th>\n",
              "      <th>College_Indian Institute of Information Technology (IIIT) Pune</th>\n",
              "      <th>College_Indian Institute of Information Technology (IIIT) Ranchi</th>\n",
              "      <th>College_Indian Institute of Information Technology (IIIT), Sri City, Chittoor</th>\n",
              "      <th>College_Indian Institute of Information Technology (IIIT)Kota, Rajasthan</th>\n",
              "      <th>College_Indian Institute of Information Technology Bhagalpur</th>\n",
              "      <th>College_Indian Institute of Information Technology Bhopal</th>\n",
              "      <th>College_Indian Institute of Information Technology Design &amp; Manufacturing Kurnool, Andhra Pradesh</th>\n",
              "      <th>College_Indian Institute of Information Technology Guwahati</th>\n",
              "      <th>College_Indian Institute of Information Technology Lucknow</th>\n",
              "      <th>College_Indian Institute of Information Technology Manipur</th>\n",
              "      <th>College_Indian Institute of Information Technology Srirangam, Tiruchirappalli</th>\n",
              "      <th>College_Indian Institute of Information Technology Surat</th>\n",
              "      <th>College_Indian Institute of Information Technology(IIIT) Dharwad</th>\n",
              "      <th>College_Indian Institute of Information Technology(IIIT) Kalyani, West Bengal</th>\n",
              "      <th>College_Indian Institute of Information Technology(IIIT) Kilohrad, Sonepat, Haryana</th>\n",
              "      <th>College_Indian Institute of Information Technology(IIIT) Kottayam</th>\n",
              "      <th>College_Indian Institute of Information Technology(IIIT) Una, Himachal Pradesh</th>\n",
              "      <th>College_Indian Institute of Information Technology(IIIT), Vadodara, Gujrat</th>\n",
              "      <th>College_Indian Institute of Information Technology, Agartala</th>\n",
              "      <th>College_Indian Institute of Information Technology, Allahabad</th>\n",
              "      <th>College_Indian Institute of Information Technology, Design &amp; Manufacturing, Kancheepuram</th>\n",
              "      <th>College_Indian Institute of Information Technology, Vadodara International Campus Diu (IIITVICD)</th>\n",
              "      <th>College_Indian institute of information technology, Raichur, Karnataka</th>\n",
              "      <th>College_Pt. Dwarka Prasad Mishra Indian Institute of Information Technology, Design &amp; Manufacture Jabalpur</th>\n",
              "    </tr>\n",
              "  </thead>\n",
              "  <tbody>\n",
              "    <tr>\n",
              "      <th>0</th>\n",
              "      <td>513</td>\n",
              "      <td>1</td>\n",
              "      <td>0</td>\n",
              "      <td>0</td>\n",
              "      <td>0</td>\n",
              "      <td>0</td>\n",
              "      <td>0</td>\n",
              "      <td>0</td>\n",
              "      <td>0</td>\n",
              "      <td>0</td>\n",
              "      <td>0</td>\n",
              "      <td>0</td>\n",
              "      <td>1</td>\n",
              "      <td>0</td>\n",
              "      <td>0</td>\n",
              "      <td>0</td>\n",
              "      <td>0</td>\n",
              "      <td>0</td>\n",
              "      <td>0</td>\n",
              "      <td>0</td>\n",
              "      <td>0</td>\n",
              "      <td>0</td>\n",
              "      <td>0</td>\n",
              "      <td>0</td>\n",
              "      <td>0</td>\n",
              "      <td>0</td>\n",
              "      <td>1</td>\n",
              "      <td>0</td>\n",
              "      <td>0</td>\n",
              "      <td>0</td>\n",
              "      <td>0</td>\n",
              "      <td>0</td>\n",
              "      <td>0</td>\n",
              "      <td>0</td>\n",
              "      <td>0</td>\n",
              "      <td>0</td>\n",
              "      <td>0</td>\n",
              "      <td>0</td>\n",
              "      <td>0</td>\n",
              "      <td>0</td>\n",
              "      <td>0</td>\n",
              "      <td>0</td>\n",
              "      <td>0</td>\n",
              "      <td>0</td>\n",
              "      <td>0</td>\n",
              "      <td>0</td>\n",
              "      <td>0</td>\n",
              "      <td>0</td>\n",
              "      <td>0</td>\n",
              "      <td>0</td>\n",
              "      <td>0</td>\n",
              "      <td>0</td>\n",
              "    </tr>\n",
              "    <tr>\n",
              "      <th>1</th>\n",
              "      <td>1234</td>\n",
              "      <td>0</td>\n",
              "      <td>1</td>\n",
              "      <td>0</td>\n",
              "      <td>0</td>\n",
              "      <td>0</td>\n",
              "      <td>0</td>\n",
              "      <td>0</td>\n",
              "      <td>0</td>\n",
              "      <td>0</td>\n",
              "      <td>0</td>\n",
              "      <td>0</td>\n",
              "      <td>0</td>\n",
              "      <td>0</td>\n",
              "      <td>0</td>\n",
              "      <td>0</td>\n",
              "      <td>0</td>\n",
              "      <td>0</td>\n",
              "      <td>0</td>\n",
              "      <td>1</td>\n",
              "      <td>0</td>\n",
              "      <td>0</td>\n",
              "      <td>0</td>\n",
              "      <td>0</td>\n",
              "      <td>0</td>\n",
              "      <td>0</td>\n",
              "      <td>1</td>\n",
              "      <td>0</td>\n",
              "      <td>0</td>\n",
              "      <td>0</td>\n",
              "      <td>0</td>\n",
              "      <td>0</td>\n",
              "      <td>0</td>\n",
              "      <td>0</td>\n",
              "      <td>0</td>\n",
              "      <td>0</td>\n",
              "      <td>0</td>\n",
              "      <td>0</td>\n",
              "      <td>0</td>\n",
              "      <td>0</td>\n",
              "      <td>0</td>\n",
              "      <td>0</td>\n",
              "      <td>0</td>\n",
              "      <td>0</td>\n",
              "      <td>0</td>\n",
              "      <td>0</td>\n",
              "      <td>0</td>\n",
              "      <td>0</td>\n",
              "      <td>0</td>\n",
              "      <td>0</td>\n",
              "      <td>0</td>\n",
              "      <td>0</td>\n",
              "    </tr>\n",
              "    <tr>\n",
              "      <th>2</th>\n",
              "      <td>3123</td>\n",
              "      <td>1</td>\n",
              "      <td>0</td>\n",
              "      <td>0</td>\n",
              "      <td>0</td>\n",
              "      <td>0</td>\n",
              "      <td>0</td>\n",
              "      <td>0</td>\n",
              "      <td>0</td>\n",
              "      <td>0</td>\n",
              "      <td>0</td>\n",
              "      <td>0</td>\n",
              "      <td>0</td>\n",
              "      <td>0</td>\n",
              "      <td>0</td>\n",
              "      <td>0</td>\n",
              "      <td>0</td>\n",
              "      <td>0</td>\n",
              "      <td>0</td>\n",
              "      <td>1</td>\n",
              "      <td>0</td>\n",
              "      <td>0</td>\n",
              "      <td>0</td>\n",
              "      <td>0</td>\n",
              "      <td>0</td>\n",
              "      <td>0</td>\n",
              "      <td>1</td>\n",
              "      <td>0</td>\n",
              "      <td>0</td>\n",
              "      <td>0</td>\n",
              "      <td>0</td>\n",
              "      <td>0</td>\n",
              "      <td>0</td>\n",
              "      <td>0</td>\n",
              "      <td>0</td>\n",
              "      <td>0</td>\n",
              "      <td>0</td>\n",
              "      <td>0</td>\n",
              "      <td>0</td>\n",
              "      <td>0</td>\n",
              "      <td>0</td>\n",
              "      <td>0</td>\n",
              "      <td>0</td>\n",
              "      <td>0</td>\n",
              "      <td>0</td>\n",
              "      <td>0</td>\n",
              "      <td>0</td>\n",
              "      <td>0</td>\n",
              "      <td>0</td>\n",
              "      <td>0</td>\n",
              "      <td>0</td>\n",
              "      <td>0</td>\n",
              "    </tr>\n",
              "    <tr>\n",
              "      <th>3</th>\n",
              "      <td>2537</td>\n",
              "      <td>0</td>\n",
              "      <td>1</td>\n",
              "      <td>0</td>\n",
              "      <td>0</td>\n",
              "      <td>0</td>\n",
              "      <td>0</td>\n",
              "      <td>0</td>\n",
              "      <td>0</td>\n",
              "      <td>0</td>\n",
              "      <td>0</td>\n",
              "      <td>0</td>\n",
              "      <td>0</td>\n",
              "      <td>0</td>\n",
              "      <td>0</td>\n",
              "      <td>0</td>\n",
              "      <td>0</td>\n",
              "      <td>0</td>\n",
              "      <td>0</td>\n",
              "      <td>0</td>\n",
              "      <td>1</td>\n",
              "      <td>0</td>\n",
              "      <td>0</td>\n",
              "      <td>0</td>\n",
              "      <td>0</td>\n",
              "      <td>0</td>\n",
              "      <td>1</td>\n",
              "      <td>0</td>\n",
              "      <td>0</td>\n",
              "      <td>0</td>\n",
              "      <td>0</td>\n",
              "      <td>0</td>\n",
              "      <td>0</td>\n",
              "      <td>0</td>\n",
              "      <td>0</td>\n",
              "      <td>0</td>\n",
              "      <td>0</td>\n",
              "      <td>0</td>\n",
              "      <td>0</td>\n",
              "      <td>0</td>\n",
              "      <td>0</td>\n",
              "      <td>0</td>\n",
              "      <td>0</td>\n",
              "      <td>0</td>\n",
              "      <td>0</td>\n",
              "      <td>0</td>\n",
              "      <td>0</td>\n",
              "      <td>0</td>\n",
              "      <td>0</td>\n",
              "      <td>0</td>\n",
              "      <td>0</td>\n",
              "      <td>0</td>\n",
              "    </tr>\n",
              "    <tr>\n",
              "      <th>4</th>\n",
              "      <td>4719</td>\n",
              "      <td>1</td>\n",
              "      <td>0</td>\n",
              "      <td>0</td>\n",
              "      <td>0</td>\n",
              "      <td>0</td>\n",
              "      <td>0</td>\n",
              "      <td>0</td>\n",
              "      <td>0</td>\n",
              "      <td>0</td>\n",
              "      <td>0</td>\n",
              "      <td>0</td>\n",
              "      <td>0</td>\n",
              "      <td>0</td>\n",
              "      <td>0</td>\n",
              "      <td>0</td>\n",
              "      <td>0</td>\n",
              "      <td>0</td>\n",
              "      <td>0</td>\n",
              "      <td>0</td>\n",
              "      <td>1</td>\n",
              "      <td>0</td>\n",
              "      <td>0</td>\n",
              "      <td>0</td>\n",
              "      <td>0</td>\n",
              "      <td>0</td>\n",
              "      <td>1</td>\n",
              "      <td>0</td>\n",
              "      <td>0</td>\n",
              "      <td>0</td>\n",
              "      <td>0</td>\n",
              "      <td>0</td>\n",
              "      <td>0</td>\n",
              "      <td>0</td>\n",
              "      <td>0</td>\n",
              "      <td>0</td>\n",
              "      <td>0</td>\n",
              "      <td>0</td>\n",
              "      <td>0</td>\n",
              "      <td>0</td>\n",
              "      <td>0</td>\n",
              "      <td>0</td>\n",
              "      <td>0</td>\n",
              "      <td>0</td>\n",
              "      <td>0</td>\n",
              "      <td>0</td>\n",
              "      <td>0</td>\n",
              "      <td>0</td>\n",
              "      <td>0</td>\n",
              "      <td>0</td>\n",
              "      <td>0</td>\n",
              "      <td>0</td>\n",
              "    </tr>\n",
              "    <tr>\n",
              "      <th>...</th>\n",
              "      <td>...</td>\n",
              "      <td>...</td>\n",
              "      <td>...</td>\n",
              "      <td>...</td>\n",
              "      <td>...</td>\n",
              "      <td>...</td>\n",
              "      <td>...</td>\n",
              "      <td>...</td>\n",
              "      <td>...</td>\n",
              "      <td>...</td>\n",
              "      <td>...</td>\n",
              "      <td>...</td>\n",
              "      <td>...</td>\n",
              "      <td>...</td>\n",
              "      <td>...</td>\n",
              "      <td>...</td>\n",
              "      <td>...</td>\n",
              "      <td>...</td>\n",
              "      <td>...</td>\n",
              "      <td>...</td>\n",
              "      <td>...</td>\n",
              "      <td>...</td>\n",
              "      <td>...</td>\n",
              "      <td>...</td>\n",
              "      <td>...</td>\n",
              "      <td>...</td>\n",
              "      <td>...</td>\n",
              "      <td>...</td>\n",
              "      <td>...</td>\n",
              "      <td>...</td>\n",
              "      <td>...</td>\n",
              "      <td>...</td>\n",
              "      <td>...</td>\n",
              "      <td>...</td>\n",
              "      <td>...</td>\n",
              "      <td>...</td>\n",
              "      <td>...</td>\n",
              "      <td>...</td>\n",
              "      <td>...</td>\n",
              "      <td>...</td>\n",
              "      <td>...</td>\n",
              "      <td>...</td>\n",
              "      <td>...</td>\n",
              "      <td>...</td>\n",
              "      <td>...</td>\n",
              "      <td>...</td>\n",
              "      <td>...</td>\n",
              "      <td>...</td>\n",
              "      <td>...</td>\n",
              "      <td>...</td>\n",
              "      <td>...</td>\n",
              "      <td>...</td>\n",
              "    </tr>\n",
              "    <tr>\n",
              "      <th>1520</th>\n",
              "      <td>626</td>\n",
              "      <td>0</td>\n",
              "      <td>1</td>\n",
              "      <td>0</td>\n",
              "      <td>0</td>\n",
              "      <td>0</td>\n",
              "      <td>0</td>\n",
              "      <td>0</td>\n",
              "      <td>0</td>\n",
              "      <td>0</td>\n",
              "      <td>0</td>\n",
              "      <td>0</td>\n",
              "      <td>0</td>\n",
              "      <td>0</td>\n",
              "      <td>0</td>\n",
              "      <td>0</td>\n",
              "      <td>0</td>\n",
              "      <td>0</td>\n",
              "      <td>0</td>\n",
              "      <td>0</td>\n",
              "      <td>0</td>\n",
              "      <td>0</td>\n",
              "      <td>0</td>\n",
              "      <td>0</td>\n",
              "      <td>1</td>\n",
              "      <td>0</td>\n",
              "      <td>0</td>\n",
              "      <td>0</td>\n",
              "      <td>0</td>\n",
              "      <td>0</td>\n",
              "      <td>0</td>\n",
              "      <td>0</td>\n",
              "      <td>1</td>\n",
              "      <td>0</td>\n",
              "      <td>0</td>\n",
              "      <td>0</td>\n",
              "      <td>0</td>\n",
              "      <td>0</td>\n",
              "      <td>0</td>\n",
              "      <td>0</td>\n",
              "      <td>0</td>\n",
              "      <td>0</td>\n",
              "      <td>0</td>\n",
              "      <td>0</td>\n",
              "      <td>0</td>\n",
              "      <td>0</td>\n",
              "      <td>0</td>\n",
              "      <td>0</td>\n",
              "      <td>0</td>\n",
              "      <td>0</td>\n",
              "      <td>0</td>\n",
              "      <td>0</td>\n",
              "    </tr>\n",
              "    <tr>\n",
              "      <th>1521</th>\n",
              "      <td>210</td>\n",
              "      <td>0</td>\n",
              "      <td>1</td>\n",
              "      <td>0</td>\n",
              "      <td>0</td>\n",
              "      <td>0</td>\n",
              "      <td>0</td>\n",
              "      <td>0</td>\n",
              "      <td>0</td>\n",
              "      <td>0</td>\n",
              "      <td>0</td>\n",
              "      <td>0</td>\n",
              "      <td>0</td>\n",
              "      <td>0</td>\n",
              "      <td>0</td>\n",
              "      <td>0</td>\n",
              "      <td>0</td>\n",
              "      <td>0</td>\n",
              "      <td>0</td>\n",
              "      <td>1</td>\n",
              "      <td>0</td>\n",
              "      <td>0</td>\n",
              "      <td>0</td>\n",
              "      <td>0</td>\n",
              "      <td>0</td>\n",
              "      <td>0</td>\n",
              "      <td>1</td>\n",
              "      <td>0</td>\n",
              "      <td>0</td>\n",
              "      <td>0</td>\n",
              "      <td>0</td>\n",
              "      <td>0</td>\n",
              "      <td>0</td>\n",
              "      <td>0</td>\n",
              "      <td>0</td>\n",
              "      <td>0</td>\n",
              "      <td>0</td>\n",
              "      <td>0</td>\n",
              "      <td>0</td>\n",
              "      <td>0</td>\n",
              "      <td>0</td>\n",
              "      <td>0</td>\n",
              "      <td>0</td>\n",
              "      <td>0</td>\n",
              "      <td>0</td>\n",
              "      <td>0</td>\n",
              "      <td>0</td>\n",
              "      <td>0</td>\n",
              "      <td>0</td>\n",
              "      <td>0</td>\n",
              "      <td>0</td>\n",
              "      <td>0</td>\n",
              "    </tr>\n",
              "    <tr>\n",
              "      <th>1522</th>\n",
              "      <td>469</td>\n",
              "      <td>0</td>\n",
              "      <td>1</td>\n",
              "      <td>0</td>\n",
              "      <td>0</td>\n",
              "      <td>0</td>\n",
              "      <td>0</td>\n",
              "      <td>0</td>\n",
              "      <td>1</td>\n",
              "      <td>0</td>\n",
              "      <td>0</td>\n",
              "      <td>0</td>\n",
              "      <td>0</td>\n",
              "      <td>0</td>\n",
              "      <td>0</td>\n",
              "      <td>0</td>\n",
              "      <td>0</td>\n",
              "      <td>0</td>\n",
              "      <td>0</td>\n",
              "      <td>0</td>\n",
              "      <td>0</td>\n",
              "      <td>0</td>\n",
              "      <td>0</td>\n",
              "      <td>0</td>\n",
              "      <td>0</td>\n",
              "      <td>0</td>\n",
              "      <td>0</td>\n",
              "      <td>0</td>\n",
              "      <td>0</td>\n",
              "      <td>0</td>\n",
              "      <td>0</td>\n",
              "      <td>0</td>\n",
              "      <td>0</td>\n",
              "      <td>0</td>\n",
              "      <td>0</td>\n",
              "      <td>0</td>\n",
              "      <td>0</td>\n",
              "      <td>0</td>\n",
              "      <td>0</td>\n",
              "      <td>0</td>\n",
              "      <td>0</td>\n",
              "      <td>0</td>\n",
              "      <td>0</td>\n",
              "      <td>0</td>\n",
              "      <td>0</td>\n",
              "      <td>0</td>\n",
              "      <td>0</td>\n",
              "      <td>0</td>\n",
              "      <td>1</td>\n",
              "      <td>0</td>\n",
              "      <td>0</td>\n",
              "      <td>0</td>\n",
              "    </tr>\n",
              "    <tr>\n",
              "      <th>1523</th>\n",
              "      <td>162</td>\n",
              "      <td>0</td>\n",
              "      <td>1</td>\n",
              "      <td>0</td>\n",
              "      <td>0</td>\n",
              "      <td>0</td>\n",
              "      <td>1</td>\n",
              "      <td>0</td>\n",
              "      <td>0</td>\n",
              "      <td>0</td>\n",
              "      <td>0</td>\n",
              "      <td>0</td>\n",
              "      <td>0</td>\n",
              "      <td>0</td>\n",
              "      <td>0</td>\n",
              "      <td>0</td>\n",
              "      <td>0</td>\n",
              "      <td>0</td>\n",
              "      <td>0</td>\n",
              "      <td>0</td>\n",
              "      <td>0</td>\n",
              "      <td>0</td>\n",
              "      <td>0</td>\n",
              "      <td>0</td>\n",
              "      <td>0</td>\n",
              "      <td>0</td>\n",
              "      <td>0</td>\n",
              "      <td>0</td>\n",
              "      <td>0</td>\n",
              "      <td>0</td>\n",
              "      <td>0</td>\n",
              "      <td>0</td>\n",
              "      <td>0</td>\n",
              "      <td>0</td>\n",
              "      <td>0</td>\n",
              "      <td>0</td>\n",
              "      <td>0</td>\n",
              "      <td>0</td>\n",
              "      <td>0</td>\n",
              "      <td>0</td>\n",
              "      <td>0</td>\n",
              "      <td>0</td>\n",
              "      <td>0</td>\n",
              "      <td>0</td>\n",
              "      <td>0</td>\n",
              "      <td>0</td>\n",
              "      <td>0</td>\n",
              "      <td>0</td>\n",
              "      <td>1</td>\n",
              "      <td>0</td>\n",
              "      <td>0</td>\n",
              "      <td>0</td>\n",
              "    </tr>\n",
              "    <tr>\n",
              "      <th>1524</th>\n",
              "      <td>109</td>\n",
              "      <td>0</td>\n",
              "      <td>1</td>\n",
              "      <td>0</td>\n",
              "      <td>0</td>\n",
              "      <td>0</td>\n",
              "      <td>0</td>\n",
              "      <td>0</td>\n",
              "      <td>0</td>\n",
              "      <td>0</td>\n",
              "      <td>0</td>\n",
              "      <td>0</td>\n",
              "      <td>1</td>\n",
              "      <td>0</td>\n",
              "      <td>0</td>\n",
              "      <td>0</td>\n",
              "      <td>0</td>\n",
              "      <td>0</td>\n",
              "      <td>0</td>\n",
              "      <td>0</td>\n",
              "      <td>0</td>\n",
              "      <td>0</td>\n",
              "      <td>0</td>\n",
              "      <td>0</td>\n",
              "      <td>0</td>\n",
              "      <td>0</td>\n",
              "      <td>0</td>\n",
              "      <td>0</td>\n",
              "      <td>0</td>\n",
              "      <td>0</td>\n",
              "      <td>0</td>\n",
              "      <td>0</td>\n",
              "      <td>0</td>\n",
              "      <td>0</td>\n",
              "      <td>0</td>\n",
              "      <td>0</td>\n",
              "      <td>0</td>\n",
              "      <td>0</td>\n",
              "      <td>0</td>\n",
              "      <td>0</td>\n",
              "      <td>0</td>\n",
              "      <td>0</td>\n",
              "      <td>0</td>\n",
              "      <td>0</td>\n",
              "      <td>0</td>\n",
              "      <td>1</td>\n",
              "      <td>0</td>\n",
              "      <td>0</td>\n",
              "      <td>0</td>\n",
              "      <td>0</td>\n",
              "      <td>0</td>\n",
              "      <td>0</td>\n",
              "    </tr>\n",
              "  </tbody>\n",
              "</table>\n",
              "<p>1525 rows × 52 columns</p>\n",
              "</div>"
            ],
            "text/plain": [
              "      Rank  ...  College_Pt. Dwarka Prasad Mishra Indian Institute of Information Technology, Design & Manufacture Jabalpur\n",
              "0      513  ...                                                  0                                                         \n",
              "1     1234  ...                                                  0                                                         \n",
              "2     3123  ...                                                  0                                                         \n",
              "3     2537  ...                                                  0                                                         \n",
              "4     4719  ...                                                  0                                                         \n",
              "...    ...  ...                                                ...                                                         \n",
              "1520   626  ...                                                  0                                                         \n",
              "1521   210  ...                                                  0                                                         \n",
              "1522   469  ...                                                  0                                                         \n",
              "1523   162  ...                                                  0                                                         \n",
              "1524   109  ...                                                  0                                                         \n",
              "\n",
              "[1525 rows x 52 columns]"
            ]
          },
          "metadata": {},
          "execution_count": 274
        }
      ]
    },
    {
      "cell_type": "code",
      "metadata": {
        "colab": {
          "base_uri": "https://localhost:8080/"
        },
        "id": "r5NrgnWrIKcK",
        "outputId": "832f0fc0-294f-4275-e840-96eb5a0c5aa3"
      },
      "source": [
        "Y=df['Chances']\n",
        "Y"
      ],
      "execution_count": null,
      "outputs": [
        {
          "output_type": "execute_result",
          "data": {
            "text/plain": [
              "0       0.955294\n",
              "1       0.899797\n",
              "2       0.843325\n",
              "3       0.836796\n",
              "4       0.792535\n",
              "          ...   \n",
              "1520    0.985251\n",
              "1521    0.985486\n",
              "1522    0.985579\n",
              "1523    0.993340\n",
              "1524    0.995691\n",
              "Name: Chances, Length: 1525, dtype: float64"
            ]
          },
          "metadata": {},
          "execution_count": 275
        }
      ]
    },
    {
      "cell_type": "code",
      "metadata": {
        "id": "ldDvwu8LHorN"
      },
      "source": [
        "#splitting the data into training and testing sets\n",
        "trainx,testx,trainy,testy=train_test_split(X,Y,test_size=0.80)"
      ],
      "execution_count": null,
      "outputs": []
    },
    {
      "cell_type": "markdown",
      "metadata": {
        "id": "pfdvU1F3J0Dl"
      },
      "source": [
        "Linear Regression"
      ]
    },
    {
      "cell_type": "code",
      "metadata": {
        "colab": {
          "base_uri": "https://localhost:8080/"
        },
        "id": "zty2rwBCIGyi",
        "outputId": "8e3453c8-04fe-4b99-867d-fb5a869f1372"
      },
      "source": [
        "r1=LinearRegression()\n",
        "r1.fit(trainx,trainy)"
      ],
      "execution_count": null,
      "outputs": [
        {
          "output_type": "execute_result",
          "data": {
            "text/plain": [
              "LinearRegression(copy_X=True, fit_intercept=True, n_jobs=None, normalize=False)"
            ]
          },
          "metadata": {},
          "execution_count": 277
        }
      ]
    },
    {
      "cell_type": "code",
      "metadata": {
        "colab": {
          "base_uri": "https://localhost:8080/"
        },
        "id": "PBRhgssrH5RK",
        "outputId": "4572d23a-48e0-4b5d-8200-71726ac58fea"
      },
      "source": [
        "r2_score(testy,r1.predict(testx))"
      ],
      "execution_count": null,
      "outputs": [
        {
          "output_type": "execute_result",
          "data": {
            "text/plain": [
              "0.8323384942728594"
            ]
          },
          "metadata": {},
          "execution_count": 278
        }
      ]
    },
    {
      "cell_type": "code",
      "metadata": {
        "colab": {
          "base_uri": "https://localhost:8080/"
        },
        "id": "VG0ad6n6Ixyz",
        "outputId": "b2950949-7b08-43b9-e375-516effec80c0"
      },
      "source": [
        "score= mean_absolute_error(testy,r1.predict(testx))\n",
        "score"
      ],
      "execution_count": null,
      "outputs": [
        {
          "output_type": "execute_result",
          "data": {
            "text/plain": [
              "0.12830369038190423"
            ]
          },
          "metadata": {},
          "execution_count": 279
        }
      ]
    },
    {
      "cell_type": "code",
      "metadata": {
        "colab": {
          "base_uri": "https://localhost:8080/"
        },
        "id": "Q18iU26YJJJX",
        "outputId": "938dd56c-1582-4449-9de5-f794546829c8"
      },
      "source": [
        "score= mean_squared_error(testy,r1.predict(testx))\n",
        "score"
      ],
      "execution_count": null,
      "outputs": [
        {
          "output_type": "execute_result",
          "data": {
            "text/plain": [
              "0.03125298923160013"
            ]
          },
          "metadata": {},
          "execution_count": 280
        }
      ]
    },
    {
      "cell_type": "code",
      "metadata": {
        "colab": {
          "base_uri": "https://localhost:8080/"
        },
        "id": "eRNXp_x8JT8-",
        "outputId": "6c3e5a34-cb73-41e4-bf72-87fe98864389"
      },
      "source": [
        "score= mean_squared_error(testy,r1.predict(testx))\n",
        "np.sqrt(score) # root mean square error"
      ],
      "execution_count": null,
      "outputs": [
        {
          "output_type": "execute_result",
          "data": {
            "text/plain": [
              "0.1767851499181991"
            ]
          },
          "metadata": {},
          "execution_count": 281
        }
      ]
    },
    {
      "cell_type": "markdown",
      "metadata": {
        "id": "5jIgS980X1W7"
      },
      "source": [
        "Ridge Regression"
      ]
    },
    {
      "cell_type": "code",
      "metadata": {
        "colab": {
          "base_uri": "https://localhost:8080/"
        },
        "id": "JUDqckpYX7jK",
        "outputId": "87881135-c410-4774-e317-912aa54cd7ff"
      },
      "source": [
        "r=RidgeCV()\n",
        "r.fit(trainx,trainy)"
      ],
      "execution_count": null,
      "outputs": [
        {
          "output_type": "execute_result",
          "data": {
            "text/plain": [
              "RidgeCV(alphas=array([ 0.1,  1. , 10. ]), cv=None, fit_intercept=True,\n",
              "        gcv_mode=None, normalize=False, scoring=None, store_cv_values=False)"
            ]
          },
          "metadata": {},
          "execution_count": 282
        }
      ]
    },
    {
      "cell_type": "code",
      "metadata": {
        "colab": {
          "base_uri": "https://localhost:8080/"
        },
        "id": "8L8R9q6zYP4M",
        "outputId": "9bd80f2c-3479-4954-9439-d9d049378160"
      },
      "source": [
        "r2_score(testy,r.predict(testx))"
      ],
      "execution_count": null,
      "outputs": [
        {
          "output_type": "execute_result",
          "data": {
            "text/plain": [
              "0.8288025999081061"
            ]
          },
          "metadata": {},
          "execution_count": 283
        }
      ]
    },
    {
      "cell_type": "code",
      "metadata": {
        "colab": {
          "base_uri": "https://localhost:8080/"
        },
        "id": "YNcZPQPcYSYq",
        "outputId": "19630a2d-4ef9-4299-aef5-db8b85494dba"
      },
      "source": [
        "score= mean_absolute_error(testy,r.predict(testx))\n",
        "score"
      ],
      "execution_count": null,
      "outputs": [
        {
          "output_type": "execute_result",
          "data": {
            "text/plain": [
              "0.1279920761938072"
            ]
          },
          "metadata": {},
          "execution_count": 284
        }
      ]
    },
    {
      "cell_type": "code",
      "metadata": {
        "colab": {
          "base_uri": "https://localhost:8080/"
        },
        "id": "kqW840OfYWUM",
        "outputId": "be017db7-dcaf-4ddb-81a7-1ef9e303ed1a"
      },
      "source": [
        "score= mean_squared_error(testy,r.predict(testx))\n",
        "score"
      ],
      "execution_count": null,
      "outputs": [
        {
          "output_type": "execute_result",
          "data": {
            "text/plain": [
              "0.0319120985961883"
            ]
          },
          "metadata": {},
          "execution_count": 285
        }
      ]
    },
    {
      "cell_type": "code",
      "metadata": {
        "colab": {
          "base_uri": "https://localhost:8080/"
        },
        "id": "wcXs3hfDYZZy",
        "outputId": "4c2a46c0-e6da-4560-e202-a15ccc9f0156"
      },
      "source": [
        "score= mean_squared_error(testy,r.predict(testx))\n",
        "np.sqrt(score) # root mean square error"
      ],
      "execution_count": null,
      "outputs": [
        {
          "output_type": "execute_result",
          "data": {
            "text/plain": [
              "0.17863957735112423"
            ]
          },
          "metadata": {},
          "execution_count": 286
        }
      ]
    },
    {
      "cell_type": "markdown",
      "metadata": {
        "id": "QGkldNJ7LsJZ"
      },
      "source": [
        "Support Vector Regression"
      ]
    },
    {
      "cell_type": "code",
      "metadata": {
        "colab": {
          "base_uri": "https://localhost:8080/"
        },
        "id": "RjPtSMeWL3No",
        "outputId": "e0d904fc-a4d9-4761-f92b-8dc693b7d17e"
      },
      "source": [
        "r2= SVR()\n",
        "r2.fit(trainx,trainy)"
      ],
      "execution_count": null,
      "outputs": [
        {
          "output_type": "execute_result",
          "data": {
            "text/plain": [
              "SVR(C=1.0, cache_size=200, coef0=0.0, degree=3, epsilon=0.1, gamma='scale',\n",
              "    kernel='rbf', max_iter=-1, shrinking=True, tol=0.001, verbose=False)"
            ]
          },
          "metadata": {},
          "execution_count": 287
        }
      ]
    },
    {
      "cell_type": "code",
      "metadata": {
        "colab": {
          "base_uri": "https://localhost:8080/"
        },
        "id": "X2QD3WZQL3Kw",
        "outputId": "1b712d5c-0a82-4edf-a7ab-564aafea27fc"
      },
      "source": [
        "r2_score(testy,r2.predict(testx))"
      ],
      "execution_count": null,
      "outputs": [
        {
          "output_type": "execute_result",
          "data": {
            "text/plain": [
              "0.6678865539232475"
            ]
          },
          "metadata": {},
          "execution_count": 288
        }
      ]
    },
    {
      "cell_type": "code",
      "metadata": {
        "colab": {
          "base_uri": "https://localhost:8080/"
        },
        "id": "LByUW4FNL3Hr",
        "outputId": "3a85eb96-3c12-480b-9da7-b6735f249b2d"
      },
      "source": [
        "score= mean_absolute_error(testy,r2.predict(testx))\n",
        "score"
      ],
      "execution_count": null,
      "outputs": [
        {
          "output_type": "execute_result",
          "data": {
            "text/plain": [
              "0.1680992083794245"
            ]
          },
          "metadata": {},
          "execution_count": 289
        }
      ]
    },
    {
      "cell_type": "code",
      "metadata": {
        "colab": {
          "base_uri": "https://localhost:8080/"
        },
        "id": "QSHn7mrYL3E0",
        "outputId": "288304d6-32ba-4be7-810f-89da64ae0acf"
      },
      "source": [
        "score= mean_squared_error(testy,r2.predict(testx))\n",
        "score"
      ],
      "execution_count": null,
      "outputs": [
        {
          "output_type": "execute_result",
          "data": {
            "text/plain": [
              "0.0619076985435074"
            ]
          },
          "metadata": {},
          "execution_count": 290
        }
      ]
    },
    {
      "cell_type": "code",
      "metadata": {
        "colab": {
          "base_uri": "https://localhost:8080/"
        },
        "id": "dcd01qA3MetS",
        "outputId": "a3de203a-9e8b-403b-f2ac-838399ce0d8a"
      },
      "source": [
        "score= mean_squared_error(testy,r2.predict(testx))\n",
        "np.sqrt(score) # root mean square error"
      ],
      "execution_count": null,
      "outputs": [
        {
          "output_type": "execute_result",
          "data": {
            "text/plain": [
              "0.24881257714092228"
            ]
          },
          "metadata": {},
          "execution_count": 291
        }
      ]
    },
    {
      "cell_type": "markdown",
      "metadata": {
        "id": "wE1FsVzXJ30Y"
      },
      "source": [
        "Decision Tree Regression"
      ]
    },
    {
      "cell_type": "code",
      "metadata": {
        "colab": {
          "base_uri": "https://localhost:8080/"
        },
        "id": "jYbmYz0eJ60-",
        "outputId": "72b3e6d6-1f16-4fb2-b4af-1126cff9ae22"
      },
      "source": [
        "r3= DecisionTreeRegressor()\n",
        "r3.fit(trainx, trainy)"
      ],
      "execution_count": null,
      "outputs": [
        {
          "output_type": "execute_result",
          "data": {
            "text/plain": [
              "DecisionTreeRegressor(ccp_alpha=0.0, criterion='mse', max_depth=None,\n",
              "                      max_features=None, max_leaf_nodes=None,\n",
              "                      min_impurity_decrease=0.0, min_impurity_split=None,\n",
              "                      min_samples_leaf=1, min_samples_split=2,\n",
              "                      min_weight_fraction_leaf=0.0, presort='deprecated',\n",
              "                      random_state=None, splitter='best')"
            ]
          },
          "metadata": {},
          "execution_count": 292
        }
      ]
    },
    {
      "cell_type": "code",
      "metadata": {
        "colab": {
          "base_uri": "https://localhost:8080/"
        },
        "id": "WSPRK0OXKTts",
        "outputId": "fd56da10-4d14-4887-ab15-ff5ccbcdccb4"
      },
      "source": [
        "r2_score(testy,r3.predict(testx))"
      ],
      "execution_count": null,
      "outputs": [
        {
          "output_type": "execute_result",
          "data": {
            "text/plain": [
              "0.6436281672054188"
            ]
          },
          "metadata": {},
          "execution_count": 293
        }
      ]
    },
    {
      "cell_type": "code",
      "metadata": {
        "colab": {
          "base_uri": "https://localhost:8080/"
        },
        "id": "NUYs7eELKYJB",
        "outputId": "9a5a5161-8002-4723-f417-1f78856bbc6e"
      },
      "source": [
        "score= mean_absolute_error(testy,r3.predict(testx))\n",
        "score"
      ],
      "execution_count": null,
      "outputs": [
        {
          "output_type": "execute_result",
          "data": {
            "text/plain": [
              "0.1580490347635246"
            ]
          },
          "metadata": {},
          "execution_count": 294
        }
      ]
    },
    {
      "cell_type": "code",
      "metadata": {
        "colab": {
          "base_uri": "https://localhost:8080/"
        },
        "id": "3TzVd-tsKcyP",
        "outputId": "90afefc7-920c-4d9e-a961-78b77fbdfcb4"
      },
      "source": [
        "score= mean_squared_error(testy,r3.predict(testx))\n",
        "score"
      ],
      "execution_count": null,
      "outputs": [
        {
          "output_type": "execute_result",
          "data": {
            "text/plain": [
              "0.0664295898123484"
            ]
          },
          "metadata": {},
          "execution_count": 295
        }
      ]
    },
    {
      "cell_type": "code",
      "metadata": {
        "colab": {
          "base_uri": "https://localhost:8080/"
        },
        "id": "wNAiGOjXKgOq",
        "outputId": "a2ad9a43-f325-4bcb-d3e1-31e40b48e238"
      },
      "source": [
        "score= mean_squared_error(testy,r3.predict(testx))\n",
        "np.sqrt(score) # root mean square error"
      ],
      "execution_count": null,
      "outputs": [
        {
          "output_type": "execute_result",
          "data": {
            "text/plain": [
              "0.25773938351045306"
            ]
          },
          "metadata": {},
          "execution_count": 296
        }
      ]
    }
  ]
}